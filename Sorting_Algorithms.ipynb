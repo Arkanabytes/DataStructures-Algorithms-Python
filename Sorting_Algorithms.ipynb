{
 "cells": [
  {
   "cell_type": "markdown",
   "metadata": {},
   "source": [
    "# Sorting Algorithms\n",
    "\n",
    "### Merge Sort: \n",
    "It follows the "Divide" and "Conquer" rule. The given list is first divided into smaller lists and compares adjacent lists and then, reorders them in the desired sequence.\n"
   ]
  },
  {
   "cell_type": "code",
   "execution_count": 9,
   "metadata": {},
   "outputs": [
    {
     "name": "stdout",
     "output_type": "stream",
     "text": [
      "Enter the list values to be sorted: 32 4 1 10\n",
      "The sorted list is: \n",
      "[1, 4, 10, 32]\n"
     ]
    }
   ],
   "source": [
    "def msort(mylist, left, right):\n",
    "    if right - left > 1:\n",
    "        middle = (left + right) // 2\n",
    "        msort(mylist, left, middle)\n",
    "        msort(mylist, middle, right)\n",
    "        mlist(mylist, left, middle, right)\n",
    "\n",
    "def mlist(mylist, left, middle, right):\n",
    "    leftlist = mylist[left:middle]\n",
    "    rightlist = mylist[middle:right]\n",
    "    k = left\n",
    "    i = 0\n",
    "    j = 0\n",
    "    while(left + i < middle and middle + j < right):\n",
    "        if(leftlist[i] <= rightlist[j]):\n",
    "            mylist[k] = leftlist[i]\n",
    "            i += 1\n",
    "        else:\n",
    "            mylist[k] = rightlist[j]\n",
    "            j += 1\n",
    "        k += 1\n",
    "    if left + i < middle:\n",
    "        while k < right:\n",
    "            mylist[k] = leftlist[i]\n",
    "            i += 1\n",
    "            k += 1\n",
    "    else:\n",
    "        while k < right:\n",
    "            mylist[k] = rightlist[j]\n",
    "            j += 1\n",
    "            k += 1\n",
    "\n",
    "            \n",
    "mylist = input(\"Enter the list values to be sorted: \").split()\n",
    "mylist = [int(x) for x in mylist]\n",
    "msort(mylist, 0, len(mylist))\n",
    "print(\"The sorted list is: \")\n",
    "print(mylist)\n",
    "    "
   ]
  },
  {
   "cell_type": "markdown",
   "metadata": {},
   "source": [
    "### Bubble Sort:\n"
   ]
  },
  {
   "cell_type": "code",
   "execution_count": null,
   "metadata": {},
   "outputs": [],
   "source": []
  }
 ],
 "metadata": {
  "kernelspec": {
   "display_name": "Python 3",
   "language": "python",
   "name": "python3"
  },
  "language_info": {
   "codemirror_mode": {
    "name": "ipython",
    "version": 3
   },
   "file_extension": ".py",
   "mimetype": "text/x-python",
   "name": "python",
   "nbconvert_exporter": "python",
   "pygments_lexer": "ipython3",
   "version": "3.7.4"
  }
 },
 "nbformat": 4,
 "nbformat_minor": 2
}
