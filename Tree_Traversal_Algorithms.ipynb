{
 "cells": [
  {
   "cell_type": "markdown",
   "metadata": {},
   "source": [
    "# Tree Traversal Algorithms:\n",
    "Trees in Python are non-linear data structures having a \"root\" and \"nodes\". Tree traversal refers to \"visiting each node\" present in the tree exactly \"once\" in order to update or check them.\n",
    "\n",
    "There are 3 types of tree traversal:\n",
    "#### In-order traversal:\n",
    "Refers to visiting the left nodes followed by the root and then right nodes.\n",
    "\n",
    "<img src=\"resources/In-order.png\" width=\"200\" height=\"200\">\n",
    "\n",
    "#### Pre-order traversal:\n",
    "Refers to visiting the root nodes followed by the left nodes and then right nodes.\n",
    "\n",
    "<img src=\"resources/Pre-order.png\" width=\"200\" height=\"200\">\n",
    "\n",
    "#### Post-order traversal:\n",
    "Refers to visiting the left nodes followed by the right nodes and then root node.\n",
    "\n",
    "<img  src=\"resources/Post-order.png\" width=\"200\" height=\"200\">\n"
   ]
  },
  {
   "cell_type": "code",
   "execution_count": 4,
   "metadata": {},
   "outputs": [],
   "source": [
    "# Creating a Node Class\n",
    "class Node:\n",
    "    def __init__(self,val):\n",
    "        self.childleft = None\n",
    "        self.childright = None\n",
    "        self.nodedata = val\n",
    "\n",
    "# Creating an instance of the Node class to construct the tree\n",
    "# shown in the image above:\n",
    "root = Node(1)\n",
    "root.childleft = Node(2)\n",
    "root.childright = Node(3)\n",
    "root.childleft.childleft = Node(4)\n",
    "root.childleft.childright = Node(5)\n",
    "\n",
    "#         (1)\n",
    "#         / \\\n",
    "#     (2)     (3)\n",
    "#     / \\\n",
    "#  (4)   (5)\n"
   ]
  },
  {
   "cell_type": "code",
   "execution_count": 9,
   "metadata": {},
   "outputs": [
    {
     "name": "stdout",
     "output_type": "stream",
     "text": [
      "4\n",
      "2\n",
      "5\n",
      "1\n",
      "3\n"
     ]
    }
   ],
   "source": [
    "# In-order traversal:\n",
    "\n",
    "def InOrd(root):\n",
    "    if root:\n",
    "        InOrd(root.childleft)\n",
    "        print(root.nodedata)\n",
    "        InOrd(root.childright)\n",
    "InOrd(root)\n"
   ]
  },
  {
   "cell_type": "code",
   "execution_count": 10,
   "metadata": {},
   "outputs": [
    {
     "name": "stdout",
     "output_type": "stream",
     "text": [
      "1\n",
      "2\n",
      "4\n",
      "5\n",
      "3\n"
     ]
    }
   ],
   "source": [
    "# Pre-order traversal:\n",
    "\n",
    "def PreOrd(root):\n",
    "    if root:\n",
    "        print(root.nodedata)\n",
    "        PreOrd(root.childleft)\n",
    "        PreOrd(root.childright)\n",
    "PreOrd(root)\n"
   ]
  },
  {
   "cell_type": "code",
   "execution_count": 11,
   "metadata": {},
   "outputs": [
    {
     "name": "stdout",
     "output_type": "stream",
     "text": [
      "4\n",
      "5\n",
      "2\n",
      "3\n",
      "1\n"
     ]
    }
   ],
   "source": [
    "# Post-order traversal:\n",
    "\n",
    "def PostOrd(root):\n",
    "    if root:\n",
    "        PostOrd(root.childleft)\n",
    "        PostOrd(root.childright)\n",
    "        print(root.nodedata)\n",
    "PostOrd(root)\n"
   ]
  }
 ],
 "metadata": {
  "kernelspec": {
   "display_name": "Python 3",
   "language": "python",
   "name": "python3"
  },
  "language_info": {
   "codemirror_mode": {
    "name": "ipython",
    "version": 3
   },
   "file_extension": ".py",
   "mimetype": "text/x-python",
   "name": "python",
   "nbconvert_exporter": "python",
   "pygments_lexer": "ipython3",
   "version": "3.7.4"
  }
 },
 "nbformat": 4,
 "nbformat_minor": 2
}
